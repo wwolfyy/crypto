{
 "cells": [
  {
   "cell_type": "markdown",
   "id": "c7be7f33-182d-4966-a7ca-48d67a5202d8",
   "metadata": {},
   "source": [
    "# MySQL commands to monitor DB"
   ]
  },
  {
   "cell_type": "code",
   "execution_count": null,
   "id": "f66528ef-5ad8-4da9-bcf1-e9fd0987fb06",
   "metadata": {},
   "outputs": [],
   "source": [
    "from sqlalchemy import create_engine\n",
    "import pymysql\n",
    "\n",
    "from datetime import datetime\n",
    "import pandas as pd"
   ]
  },
  {
   "cell_type": "code",
   "execution_count": null,
   "id": "f335106b-543c-43b0-9c8e-f6c83234f3ef",
   "metadata": {},
   "outputs": [],
   "source": [
    "# get table headers\n",
    "table_name = \"stepn_solana_tx\"\n",
    "column_headers = pd.read_sql_query(\"DESCRIBE \" + table_name, con=conn)"
   ]
  },
  {
   "cell_type": "code",
   "execution_count": null,
   "id": "44562070-2d8d-4d19-94f7-1bb0919fc8bb",
   "metadata": {},
   "outputs": [],
   "source": [
    "# get number of rows in table\n",
    "table_name = \"stepn_solana_tx\"\n",
    "qry_cnt = \"SELECT COUNT(*) FROM \" + table_name\n",
    "row_count = pd.read_sql_query(qry_cnt, con=conn)"
   ]
  },
  {
   "cell_type": "code",
   "execution_count": null,
   "id": "b4e05e94-3dc7-44df-b5da-768ec261bb7d",
   "metadata": {},
   "outputs": [],
   "source": [
    "# get bytesize of tables\n",
    "qry_sz = \"SELECT TABLE_NAME AS `Table`, \" + \\\n",
    "    \"ROUND((DATA_LENGTH + INDEX_LENGTH) / 1024 / 1024) AS `Size (MB)` FROM information_schema.TABLES \"  + \\\n",
    "    \"WHERE TABLE_SCHEMA = 'crypto' ORDER BY   (DATA_LENGTH + INDEX_LENGTH) DESC;\"\n",
    "bytesize = pd.read_sql_query(qry_sz, con=conn)"
   ]
  },
  {
   "cell_type": "code",
   "execution_count": null,
   "id": "05cabf50-2572-4423-bb46-1c478cf62388",
   "metadata": {},
   "outputs": [],
   "source": [
    "# get last tx\n",
    "table_name = \"stepn_solana_tx\"\n",
    "qry_last = \"SELECT blocktime, signature from \" + table_name + ' ORDER BY blocktime LIMIT 1000;'\n",
    "oldest_tx = pd.read_sql_query(qry_last, con=conn).iloc[0, :]"
   ]
  }
 ],
 "metadata": {
  "kernelspec": {
   "display_name": "Python 3",
   "language": "python",
   "name": "python3"
  },
  "language_info": {
   "codemirror_mode": {
    "name": "ipython",
    "version": 3
   },
   "file_extension": ".py",
   "mimetype": "text/x-python",
   "name": "python",
   "nbconvert_exporter": "python",
   "pygments_lexer": "ipython3",
   "version": "3.8.8"
  }
 },
 "nbformat": 4,
 "nbformat_minor": 5
}

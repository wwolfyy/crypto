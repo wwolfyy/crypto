{
 "cells": [
  {
   "cell_type": "code",
   "execution_count": null,
   "id": "88d5d2b0-2e57-440c-9391-607258e0baea",
   "metadata": {},
   "outputs": [],
   "source": [
    "# display full dataframe \n",
    "pd.set_option(\"display.max_rows\", None, \"display.max_columns\", None, \"display.max_colwidth\", None)\n",
    "\n",
    "# reset display option\n",
    "pd.reset_option(\"all\")\n",
    "\n",
    "# set pandas display backend to plotly\n",
    "pd.options.plotting.backend = \"plotly\" #\"matplotlib\"\n",
    "\n",
    "# add trace to plotly express plot\n",
    "fig2 = px.bar(df, x=\"x\", y=\"y\")\n",
    "fig.add_trace(fig2.data[0])\n",
    "\n",
    "# add logarithmic conversion button to Plotly plot + change over mode\n",
    "fig.update_layout(\n",
    "    hovermode='x unified',\n",
    "    updatemenus=[\n",
    "        dict(\n",
    "            type = \"buttons\",\n",
    "            direction = \"left\",\n",
    "            buttons=list([\n",
    "                dict(\n",
    "                    args=[{\"yaxis.type\": \"linear\"}],\n",
    "                    label=\"LINEAR\",\n",
    "                    method=\"relayout\"\n",
    "                ),\n",
    "                dict(\n",
    "                    args=[{\"yaxis.type\": \"log\"}],\n",
    "                    label=\"LOG\",\n",
    "                    method=\"relayout\"\n",
    "                )\n",
    "            ]),\n",
    "        ),\n",
    "    ]\n",
    ")\n",
    "fig.show()"
   ]
  },
  {
   "cell_type": "markdown",
   "id": "d48349aa-4924-4930-a83f-98055e1e8d13",
   "metadata": {},
   "source": [
    "# GraphQL"
   ]
  },
  {
   "cell_type": "code",
   "execution_count": null,
   "id": "e35afc27-c7b6-4f2b-b5de-8564efadd00b",
   "metadata": {},
   "outputs": [],
   "source": [
    "{\n",
    "  solana(network: solana) {\n",
    "    transfers(\n",
    "      options: {limit: 10}\n",
    "      currency: {is: \"AFbX8oGjGpmVFywbVouvhQSRmiW2aR1mohfahi4Y2AdB\"}\n",
    "      transferType: {is: transfer}      \n",
    "    ) {\n",
    "      count(senderAddress: {is: \"STEPNq2UGeGSzCyGVr2nMQAzf8xuejwqebd84wcksCK\"})\n",
    "      instruction {\n",
    "        action {\n",
    "          name\n",
    "        }\n",
    "        program {\n",
    "          id\n",
    "          name\n",
    "          parsed\n",
    "          parsedName\n",
    "        }\n",
    "      }\n",
    "      receiver {\n",
    "        address\n",
    "        mintAccount\n",
    "        type\n",
    "      }\n",
    "      sender {\n",
    "        mintAccount\n",
    "        type\n",
    "        address\n",
    "      }\n",
    "      amount\n",
    "    }\n",
    "  }\n",
    "}"
   ]
  }
 ],
 "metadata": {
  "kernelspec": {
   "display_name": "Python 3 (ipykernel)",
   "language": "python",
   "name": "python3"
  },
  "language_info": {
   "codemirror_mode": {
    "name": "ipython",
    "version": 3
   },
   "file_extension": ".py",
   "mimetype": "text/x-python",
   "name": "python",
   "nbconvert_exporter": "python",
   "pygments_lexer": "ipython3",
   "version": "3.8.13"
  }
 },
 "nbformat": 4,
 "nbformat_minor": 5
}

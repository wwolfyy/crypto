{
 "cells": [
  {
   "cell_type": "markdown",
   "id": "872170ec-1ea8-4813-ab22-5a13161eb5e9",
   "metadata": {},
   "source": [
    "# Using Bitquery GraphQL API"
   ]
  },
  {
   "cell_type": "code",
   "execution_count": null,
   "id": "4a9a7605-c44b-46b5-aaef-c3f0d5aa4a09",
   "metadata": {},
   "outputs": [],
   "source": [
    "#!/usr/bin/python\n",
    "# -*- coding: utf-8 -*-\n",
    "\n",
    "import requests, pprint\n",
    "import pandas as pd\n",
    "\n",
    "\n",
    "API_key = \"BQYqISAGCYfoDCPjnoX7BmQZiw3qABkn\""
   ]
  },
  {
   "cell_type": "markdown",
   "id": "93b951ff-7894-4f03-a10f-59641cc04a84",
   "metadata": {},
   "source": [
    "## define getter function"
   ]
  },
  {
   "cell_type": "code",
   "execution_count": null,
   "id": "451cc3e8-28e5-4058-9a92-2d2cbdb53e46",
   "metadata": {},
   "outputs": [],
   "source": [
    "def run_bitquery(query):  # simple function to use requests.post to make the API call.\n",
    "    headers = {'X-API-KEY': API_key}\n",
    "    request = requests.post('https://graphql.bitquery.io/',\n",
    "                            json={'query': query}, headers=headers)\n",
    "    if request.status_code == 200:\n",
    "        return request.json()\n",
    "    else:\n",
    "        raise Exception('Query failed and return code is {}.      {}'.format(request.status_code,\n",
    "                        query))        "
   ]
  },
  {
   "cell_type": "markdown",
   "id": "326f288c-a59e-4a99-b5cf-15644e0069f1",
   "metadata": {},
   "source": [
    "## define queries"
   ]
  },
  {
   "cell_type": "code",
   "execution_count": null,
   "id": "94cfaab4-9370-4dc7-8c14-8431dd15c842",
   "metadata": {},
   "outputs": [],
   "source": [
    "# all GST sent from STEPN auth on a given day\n",
    "date = \"2021-12-31\"\n",
    "\n",
    "query = \"\\\n",
    "query{\\\n",
    "  solana {\\\n",
    "    transfers(\\\n",
    "      currency: {is: 'AFbX8oGjGpmVFywbVouvhQSRmiW2aR1mohfahi4Y2AdB'}\\\n",
    "      date: {is: \" + date + \\\n",
    "                            \"}\\\n",
    "      senderAddress: {is: 'STEPNq2UGeGSzCyGVr2nMQAzf8xuejwqebd84wcksCK'}\\\n",
    "    ) {\\\n",
    "      amount(calculate: sum)\\\n",
    "      receiver {\\\n",
    "        address\\\n",
    "        mintAccount\\\n",
    "      }\\\n",
    "      sender {\\\n",
    "        address\\\n",
    "        mintAccount\\\n",
    "      }\\\n",
    "    }\\\n",
    "  }\\\n",
    "}\"\n",
    "pprint.pprint(query, indent=4)"
   ]
  },
  {
   "cell_type": "code",
   "execution_count": null,
   "id": "52e0730f-531c-4da1-8944-1e532aee5b27",
   "metadata": {},
   "outputs": [],
   "source": [
    "# all GST sent to STEPN auth on a given day\n",
    "date = \"2021-12-31\"\n",
    "\n",
    "query = \"\\\n",
    "query{\\\n",
    "  solana {\\\n",
    "    transfers(\\\n",
    "      currency: {is: 'AFbX8oGjGpmVFywbVouvhQSRmiW2aR1mohfahi4Y2AdB'}\\\n",
    "      date: {is: \" + date + \\\n",
    "                            \"}\\\n",
    "      receiverAddress: {is: 'STEPNq2UGeGSzCyGVr2nMQAzf8xuejwqebd84wcksCK'}\\\n",
    "    ) {\\\n",
    "      amount(calculate: sum)\\\n",
    "      receiver {\\\n",
    "        address\\\n",
    "        mintAccount\\\n",
    "      }\\\n",
    "      sender {\\\n",
    "        address\\\n",
    "        mintAccount\\\n",
    "      }\\\n",
    "    }\\\n",
    "  }\\\n",
    "}\"\n",
    "pprint.pprint(query, indent=4)"
   ]
  },
  {
   "cell_type": "code",
   "execution_count": null,
   "id": "ba770b95-a799-4416-a5f8-0521198ce558",
   "metadata": {},
   "outputs": [],
   "source": []
  },
  {
   "cell_type": "code",
   "execution_count": null,
   "id": "f7921c28-de3a-4cdf-9fae-42b2b659c2a6",
   "metadata": {},
   "outputs": [],
   "source": [
    "# total users created (number of associated accounts created): COUNT TRANSACTION WHERE ALL OF BELOW HAPPED IN ONE tx\n",
    "\n",
    "    ## associated token program [ATokenGPvbdGVxr1b2hvZbsiqW5xWH25efTNsLJA8knL]: CREATE\n",
    "        # MINT: AFbX8oGjGpmVFywbVouvhQSRmiW2aR1mohfahi4Y2AdB\n",
    "        # ACCOUNT: NOT HLS5Y68QSQgJP7wUbbbbCjEnMknVZrHXYDwwVaDcsdK7\n",
    "        # WALLET: NOT STEPNq2UGeGSzCyGVr2nMQAzf8xuejwqebd84wcksCK\n",
    "        \n",
    "        ## system program: CREATE ACCOUNT\n",
    "            # FROM ADDRESS: NOT STEPNq2UGeGSzCyGVr2nMQAzf8xuejwqebd84wcksCK\n",
    "            \n",
    "        ## token program: INITIALIZE ACCOUNT\n",
    "            # MINT: AFbX8oGjGpmVFywbVouvhQSRmiW2aR1mohfahi4Y2AdB            \n",
    "            \n",
    "    ## TOKEN PROGRAM [TokenkegQfeZyiNwAJbNbGKPFXCWuBvf9Ss623VQ5DA]: TRANSFER (CHECKED)\n",
    "        # AUTHORITY: STEPNq2UGeGSzCyGVr2nMQAzf8xuejwqebd84wcksCK\n",
    "        # MINT: AFbX8oGjGpmVFywbVouvhQSRmiW2aR1mohfahi4Y2AdB\n",
    "        # SOURCE: HLS5Y68QSQgJP7wUbbbbCjEnMknVZrHXYDwwVaDcsdK7\n",
    "    \n",
    "\n",
    "\n",
    "# total burned\n",
    "\n",
    "\n",
    "\n",
    "# total in treasury\n"
   ]
  },
  {
   "cell_type": "markdown",
   "id": "ebd55ded-8552-4263-9d40-3b2f8083c7ac",
   "metadata": {},
   "source": [
    "## run query"
   ]
  },
  {
   "cell_type": "code",
   "execution_count": null,
   "id": "41109eee-ac3c-4bf6-af9b-f6d9edf09d08",
   "metadata": {},
   "outputs": [],
   "source": [
    "result = run_bitquery(query)  # Execute the query\n",
    "print 'Result - {}'.format(result)"
   ]
  }
 ],
 "metadata": {
  "kernelspec": {
   "display_name": "Python 3",
   "language": "python",
   "name": "python3"
  },
  "language_info": {
   "codemirror_mode": {
    "name": "ipython",
    "version": 3
   },
   "file_extension": ".py",
   "mimetype": "text/x-python",
   "name": "python",
   "nbconvert_exporter": "python",
   "pygments_lexer": "ipython3",
   "version": "3.8.8"
  }
 },
 "nbformat": 4,
 "nbformat_minor": 5
}

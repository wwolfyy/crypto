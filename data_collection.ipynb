{
 "cells": [
  {
   "cell_type": "markdown",
   "id": "ef8697e9",
   "metadata": {},
   "source": [
    "<font size=6> Collect data from various data sources </font>"
   ]
  },
  {
   "cell_type": "markdown",
   "id": "71efb887-f17f-4ec3-9b3d-f6b91ab07204",
   "metadata": {},
   "source": [
    "# passing:\n",
    "Etherscan (ETH and ERC tokens only; ETH mainnet onchain only (excl. transactions on exchanges, swaps, & bridges))<br>"
   ]
  },
  {
   "cell_type": "markdown",
   "id": "eb70f0bf-1a83-45a3-a024-8107de2c532b",
   "metadata": {},
   "source": [
    "# excluded data:\n",
    "wrapped coins in bridge<br>\n",
    "intra-exchange data<br>"
   ]
  },
  {
   "cell_type": "markdown",
   "id": "428fb9c3-2f32-4c96-b726-34dcb9d7a974",
   "metadata": {},
   "source": [
    "# import & map row names"
   ]
  },
  {
   "cell_type": "code",
   "execution_count": 3,
   "id": "d14a493a-b0a6-411c-8748-0e337eb11aea",
   "metadata": {},
   "outputs": [],
   "source": [
    "import pandas as pd\n",
    "import statistics\n",
    "\n",
    "list_path = '/home/lstm/Downloads/digital asset eval summary sheet - eval_sheet_auto.csv'\n",
    "\n",
    "row_mapping = {'layer1': 'platform', 'ecosystem sector': 'sector', 'consensus model': 'cons', 'market cap': 'mktcap',\n",
    "               'market share': 'mktshare', 'transaction cost': 'avg_fee', 'launch distribution': 'launch_dist',\n",
    "               'pre-distribution': 'presales', 'onchain governance': 'onchain_govc', 'portfolio inclusion': 'portfolio',\n",
    "               'supply_circulating': 'circulating_supply', 'supply_total': 'total_supply', 'num_mkt_pairs': 'num_market_pairs'\n",
    "              }\n",
    "\n",
    "row_mapping_rev = {value: key for key, value in row_mapping.items()}\n",
    "\n",
    "category_headers = ['ENVIRONMENTAL', 'SOCIAL', 'GOVERNANCE', 'INTERMEDIATES', 'REFERENCES', 'RATINGS']\n",
    "\n",
    "template = pd.read_csv(list_path).loc[:, ['ticker']]\n",
    "\n",
    "path_out_csv = '/home/lstm/Downloads/crypto_eval_sheet.csv'"
   ]
  },
  {
   "cell_type": "markdown",
   "id": "7896dc27-dce5-41d1-bf99-5bc65e91d8d2",
   "metadata": {},
   "source": [
    "# columns to add\n",
    "unscruplous use<br>\n"
   ]
  },
  {
   "cell_type": "markdown",
   "id": "da2ca438",
   "metadata": {},
   "source": [
    "# Messari (REST)\n",
    "free w/ limited nubmer of assets (20 as of Feb '22)<br>\n",
    "URL: https://messari.io/api/docs"
   ]
  },
  {
   "cell_type": "code",
   "execution_count": 4,
   "id": "371998ad-cf7d-48f5-a665-c2d635dcdd6c",
   "metadata": {},
   "outputs": [],
   "source": [
    "import urllib, json"
   ]
  },
  {
   "cell_type": "code",
   "execution_count": 5,
   "id": "c989a2d4-1c9a-4366-a6a2-bf7386349f02",
   "metadata": {},
   "outputs": [],
   "source": [
    "# get data\n",
    "url = \"https://data.messari.io/api/v2/assets\"\n",
    "response = urllib.request.urlopen(url).read()\n",
    "json_format = response.decode('utf8')\n",
    "data_messari = json.loads(json_format)\n",
    "data = data_messari.copy()"
   ]
  },
  {
   "cell_type": "code",
   "execution_count": null,
   "id": "8df3826f-400d-4c63-baf6-81a7fea4eaa7",
   "metadata": {},
   "outputs": [],
   "source": [
    "# extract info and put in dataframe\n",
    "_asset = [data['data'][i]['name'] for i in range(len(data['data']))]\n",
    "# _slug =  [data['data'][i]['slug'] for i in range(len(data['data']))]\n",
    "_symbol = [data['data'][i]['symbol'] for i in range(len(data['data']))]\n",
    "_token_type = [data['data'][i]['profile']['economics']['token']['token_type'] for i in range(len(data['data']))]\n",
    "_token_address = [data['data'][i]['profile']['economics']['token']['token_address'] for i in range(len(data['data']))]\n",
    "_multitoken = [data['data'][i]['profile']['economics']['token']['multitoken'] for i in range(len(data['data']))]\n",
    "\n",
    "_field = [data['data'][i]['profile']['general']['overview']['category'] for i in range(len(data['data']))]\n",
    "_sector = [data['data'][i]['profile']['general']['overview']['sector'] for i in range(len(data['data']))]\n",
    "_cons = [data['data'][i]['profile']['economics']['consensus_and_emission']['consensus']['general_consensus_mechanism'] for i in range(len(data['data']))]\n",
    "_blocktime = [data['data'][i]['profile']['economics']['consensus_and_emission']['consensus']['targeted_block_time'] for i in range(len(data['data']))]\n",
    "# _hrate = [data['data'][i]['metrics']['mining_stats']['hash_rate'] for i in range(len(data['data']))]\n",
    "# _hrate2 = [data['data'][i]['metrics']['on_chain_data']['hash_rate'] for i in range(len(data['data']))]\n",
    "_hrate = [data['data'][i]['metrics']['mining_stats']['network_hash_rate'] for i in range(len(data['data']))]\n",
    "\n",
    "_marketcap = [data['data'][i]['metrics']['marketcap']['current_marketcap_usd'] for i in range(len(data['data']))]\n",
    "_marketshare = [data['data'][i]['metrics']['marketcap']['marketcap_dominance_percent'] for i in range(len(data['data']))]\n",
    "_quote = [data['data'][i]['metrics']['market_data']['price_usd'] for i in range(len(data['data']))]\n",
    "_ath = [data['data'][i]['metrics']['all_time_high']['price'] for i in range(len(data['data']))]\n",
    "_volatility_1yr = [data['data'][i]['metrics']['risk_metrics']['volatility_stats']['volatility_last_1_year'] for i in range(len(data['data']))]\n",
    "\n",
    "# _supply_circulating = [data['data'][i]['metrics']['supply']['circulating'] for i in range(len(data['data']))]\n",
    "# _supply_2050 = [data['data'][i]['metrics']['supply']['circulating'] for i in range(len(data['data']))]\n",
    "\n",
    "_github_stars = [data['data'][i]['metrics'][\"developer_activity\"][\"stars\"] for i in range(len(data['data']))]\n",
    "_github_watch = [data['data'][i]['metrics'][\"developer_activity\"][\"watchers\"] for i in range(len(data['data']))]\n",
    "_github_commits_3m = [data['data'][i]['metrics'][\"developer_activity\"][\"commits_last_3_months\"] for i in range(len(data['data']))]\n",
    "_github_commits_1y = [data['data'][i]['metrics'][\"developer_activity\"][\"commits_last_1_year\"] for i in range(len(data['data']))]\n",
    "_reddit_active_user = [data['data'][i]['metrics']['reddit']['active_user_count'] for i in range(len(data['data']))]\n",
    "_reddit_subscriber = [data['data'][i]['metrics']['reddit']['subscribers'] for i in range(len(data['data']))]\n",
    "\n",
    "_active_address = [data['data'][i]['metrics']['on_chain_data']['active_addresses'] for i in range(len(data['data']))]\n",
    "_block_height = [data['data'][i]['metrics']['on_chain_data']['block_height'] for i in range(len(data['data']))]\n",
    "_avg_fee = [data['data'][i]['metrics']['on_chain_data']['average_fee_usd'] for i in range(len(data['data']))]\n",
    "# _exch_flow_in = [data['data'][i]['metrics']['exchange_flows']['flow_in_exchange_native_units'] for i in range(len(data['data']))]\n",
    "# _exch_flow_out = [data['data'][i]['metrics']['exchange_flows']['flow_out_exchange_native_units'] for i in range(len(data['data']))]\n",
    "# _exch_supply = [data['data'][i]['metrics']['exchange_flows']['supply_exchange_native_units'] for i in range(len(data['data']))]\n",
    "_TVL = [data['data'][i]['metrics']['supply_distribution']['supply_in_contracts_native_units'] for i in range(len(data['data']))]\n",
    "_holding_1pct = [data['data'][i]['metrics']['supply_distribution']['supply_in_top_1_percent_addresses'] for i in range(len(data['data']))]\n",
    "_holding_10pct = [data['data'][i]['metrics']['supply_distribution']['supply_in_top_10_percent_addresses'] for i in range(len(data['data']))]\n",
    "_holding_100 = [data['data'][i]['metrics']['supply_distribution']['supply_in_top_100_addresses'] for i in range(len(data['data']))]\n",
    "\n",
    "_launch_dist = [data['data'][i]['profile']['economics']['launch']['general']['launch_style'] for i in range(len(data['data']))]\n",
    "_presales = [data['data'][i]['profile']['economics']['launch']['fundraising']['sales_rounds'] for i in range(len(data['data']))]\n",
    "aa = [data['data'][i]['profile']['investors']['organizations'] for i in range(len(data['data']))]\n",
    "_investors = [[aa[q][r]['name'] for r in range(len(aa[q]))] for q in range(len(aa))]\n",
    "\n",
    "_init_supply = [data['data'][i]['profile']['economics']['launch']['initial_distribution']['initial_supply'] for i in range(len(data['data']))]\n",
    "_init_investor_share = [data['data'][i]['profile']['economics']['launch']['initial_distribution']['initial_supply_repartition']['allocated_to_investors_percentage'] for i in range(len(data['data']))]\n",
    "_init_self_share = [data['data'][i]['profile']['economics']['launch']['initial_distribution']['initial_supply_repartition']['allocated_to_organization_or_founders_percentage'] for i in range(len(data['data']))]\n",
    "_init_premined = [data['data'][i]['profile']['economics']['launch']['initial_distribution']['initial_supply_repartition']['allocated_to_premined_rewards_or_airdrops_percentage'] for i in range(len(data['data']))]\n",
    "\n",
    "_onchain_govc = [data['data'][i]['profile']['governance']['onchain_governance']['onchain_governance_type'] for i in range(len(data['data']))]\n",
    "\n",
    "attributes = zip(_asset,_token_type,_token_address,\n",
    "    _field,_sector,_cons,_blocktime,_hrate,\n",
    "    _marketcap,_marketshare,_quote,_ath,_volatility_1yr,\n",
    "    _active_address,\n",
    "    _block_height,_avg_fee,_TVL,_holding_1pct,_holding_10pct,_holding_100,\n",
    "    _launch_dist,_presales,_investors,_init_supply,_init_investor_share,_init_self_share,_init_premined,\n",
    "    _onchain_govc,\n",
    "    _github_stars,_github_watch,_github_commits_3m,_github_commits_1y,_reddit_active_user,_reddit_subscriber)\n",
    "\n",
    "core_colnames = ['name','token_type','token_address',\n",
    "    'field','sector','cons','blocktime','hashrate',\n",
    "    'mktcap','mktshare','quote','ATH','volatility_1yr',\n",
    "    'active_address',\n",
    "    'block_height','avg_fee','TVL','holding_1pct','holding_10pct','holding_100',\n",
    "    'launch_dist','presales','investors','init_supply','init_investor_share','init_self_share','init_premined',\n",
    "    'onchain_govc',\n",
    "    'github_stars','github_watch','github_commits_3m','github_commits_1y','reddit_active_user','reddit_subscriber']\n",
    "\n",
    "esg_colnames = ['name','token_type',\n",
    "    'sector','cons','blocktime','hashrate',\n",
    "    'mktshare',\n",
    "    'active_address',\n",
    "    'avg_fee','TVL','holding_1pct','holding_10pct','holding_100',\n",
    "    'launch_dist','init_investor_share','init_self_share',\n",
    "    'onchain_govc',\n",
    "    'github_stars','github_watch','github_commits_3m','github_commits_1y','reddit_active_user','reddit_subscriber']\n",
    "\n",
    "df_asset_tmp = pd.DataFrame(attributes, index=_symbol, columns=core_colnames)\n",
    "df_asset_tmp.index.name = 'ticker'\n",
    "df_asset = df_asset_tmp.loc[:, core_colnames]\n",
    "df_esg = df_asset_tmp.loc[:, esg_colnames]\n",
    "df_esg"
   ]
  },
  {
   "cell_type": "code",
   "execution_count": 7,
   "id": "7521084d-b167-4967-adb8-a55b64694330",
   "metadata": {},
   "outputs": [
    {
     "data": {
      "application/vnd.jupyter.widget-view+json": {
       "model_id": "44900b1437b74051a12605a8c1c72907",
       "version_major": 2,
       "version_minor": 0
      },
      "text/plain": [
       "MitoWidget(analysis_data_json='{\"analysisName\": \"UUID-e5116517-372a-4c5b-842b-6ca457055b49\", \"code\": {\"imports…"
      ]
     },
     "metadata": {},
     "output_type": "display_data"
    }
   ],
   "source": [
    "import mitosheet\n",
    "mitosheet.sheet(df_esg, view_df=True)"
   ]
  },
  {
   "cell_type": "code",
   "execution_count": 5,
   "id": "a61549f1-a620-4e07-ba91-545bde5030c3",
   "metadata": {},
   "outputs": [
    {
     "name": "stdout",
     "output_type": "stream",
     "text": [
      "20 symbols:  ['BTC', 'ETH', 'USDT', 'BNB', 'USDC', 'XRP', 'ADA', 'LUNA', 'SOL', 'AVAX', 'BUSD', 'DOT', 'DOGE', 'SHIB', 'UST', 'MATIC', 'WBTC', 'CRO', 'DAI', 'ATOM']\n",
      "\n",
      "columns:  ['name', 'token_type', 'sector', 'cons', 'blocktime', 'hashrate', 'mktshare', 'active_address', 'avg_fee', 'TVL', 'holding_1pct', 'holding_10pct', 'holding_100', 'launch_dist', 'init_investor_share', 'init_self_share', 'onchain_govc', 'github_stars', 'github_watch', 'github_commits_3m', 'github_commits_1y', 'reddit_active_user', 'reddit_subscriber']\n"
     ]
    }
   ],
   "source": [
    "# # print sample data\n",
    "# obj = data['data'][1]\n",
    "# print(obj.keys())\n",
    "# print(json.dumps(obj, indent=2))\n",
    "\n",
    "print(len(df_esg), 'symbols: ', df_esg.index.to_list())\n",
    "print('\\ncolumns: ', df_esg.columns.to_list())"
   ]
  },
  {
   "cell_type": "markdown",
   "id": "ee815769-a9c0-4ffb-a87d-28706763d523",
   "metadata": {},
   "source": [
    "# CMC (REST)\n",
    "free~700+ USD, 299 for all current data endpoints <br>\n",
    "no on-chain data (balance by address, etc)<br>\n",
    "API key (free): 806aaadd-bb84-47b0-a551-0b0c244b4782 <br>\n",
    "URL: https://coinmarketcap.com/api/"
   ]
  },
  {
   "cell_type": "code",
   "execution_count": 6,
   "id": "bef2185d-e5b8-4d8a-b275-911e789fce53",
   "metadata": {},
   "outputs": [],
   "source": [
    "from requests import Request, Session\n",
    "from requests.exceptions import ConnectionError, Timeout, TooManyRedirects\n",
    "import json, itertools\n",
    "import pandas as pd\n",
    "\n",
    "# parameters = {'start':'1', 'limit':'5000', 'convert':'USD'}\n",
    "headers = {\n",
    "  'Accepts': 'application/json',\n",
    "  'X-CMC_PRO_API_KEY': '806aaadd-bb84-47b0-a551-0b0c244b4782',\n",
    "}\n",
    "\n",
    "session = Session()\n",
    "session.headers.update(headers)"
   ]
  },
  {
   "cell_type": "code",
   "execution_count": null,
   "id": "527c4afb-4b03-452a-8337-d3523e923129",
   "metadata": {},
   "outputs": [],
   "source": [
    "# all assets available\n",
    "url = 'https://pro-api.coinmarketcap.com/v1/cryptocurrency/map'\n",
    "response = session.get(url)#, params=parameters)\n",
    "data_cmc = json.loads(response.text)\n",
    "data = data_cmc.copy()\n",
    "_coinmap = pd.DataFrame(data['data']).sort_values('rank').reset_index(drop=True)\n",
    "print('num. symbols available: ', len(_coinmap), '\\n')\n",
    "\n",
    "# check for duplicate symbols --> remove lower-ranked symbols\n",
    "print('duplicated symbols (being removed):', sum(_coinmap['symbol'].duplicated()), '\\n')\n",
    "coinmap = _coinmap.loc[~_coinmap['symbol'].duplicated(keep='first'), :].reset_index(drop=True)\n",
    "dropped_symbols = _coinmap.loc[~_coinmap['id'].isin(coinmap['id']), ['name', 'symbol', 'rank']]\n",
    "coinmap"
   ]
  },
  {
   "cell_type": "code",
   "execution_count": 8,
   "id": "423fd052-a9a6-4d9f-b9a2-a5fc2224d0b1",
   "metadata": {},
   "outputs": [
    {
     "ename": "NameError",
     "evalue": "name 'coinmap' is not defined",
     "output_type": "error",
     "traceback": [
      "\u001b[0;31m---------------------------------------------------------------------------\u001b[0m",
      "\u001b[0;31mNameError\u001b[0m                                 Traceback (most recent call last)",
      "Input \u001b[0;32mIn [8]\u001b[0m, in \u001b[0;36m<module>\u001b[0;34m\u001b[0m\n\u001b[1;32m      1\u001b[0m \u001b[38;5;28;01mimport\u001b[39;00m \u001b[38;5;21;01mmitosheet\u001b[39;00m\n\u001b[0;32m----> 2\u001b[0m mitosheet\u001b[38;5;241m.\u001b[39msheet(\u001b[43mcoinmap\u001b[49m, view_df\u001b[38;5;241m=\u001b[39m\u001b[38;5;28;01mTrue\u001b[39;00m)\n",
      "\u001b[0;31mNameError\u001b[0m: name 'coinmap' is not defined"
     ]
    }
   ],
   "source": [
    "import mitosheet\n",
    "mitosheet.sheet(coinmap, view_df=True)"
   ]
  },
  {
   "cell_type": "code",
   "execution_count": 8,
   "id": "9eac2713-d432-4c36-a347-fa4192114284",
   "metadata": {},
   "outputs": [],
   "source": [
    "# metadata - all (for top 1000 coins)\n",
    "url = 'https://pro-api.coinmarketcap.com/v1/cryptocurrency/info'  # CMC cryptocurrenc / metadata v2 endpoint\n",
    "metadata = pd.DataFrame()\n",
    "for i in range(0, 1000, 100):    \n",
    "    parameters = {'slug': coinmap['slug'].iloc[i:i+100].to_csv(header=None, index=False).strip('\\n').replace('\\n', ',')}\n",
    "    order = coinmap['slug'].iloc[i:i+100].to_list()\n",
    "    response = session.get(url, params=parameters)\n",
    "    data = json.loads(response.text)\n",
    "    tmp = pd.DataFrame(data['data']).T.set_index('slug').loc[order]\n",
    "    metadata = pd.concat([metadata, tmp]) \n",
    "metadata = metadata.reset_index().set_index('symbol')"
   ]
  },
  {
   "cell_type": "code",
   "execution_count": null,
   "id": "9756392e-2350-49a4-8a7e-c5ecd9ccb105",
   "metadata": {},
   "outputs": [],
   "source": [
    "metadata.loc[:,~metadata.keys().str.contains('self_')].drop(columns=['logo','notice','tag-names','is_hidden']).head(5)"
   ]
  },
  {
   "cell_type": "code",
   "execution_count": null,
   "id": "ebf3ef0a-15b1-481a-a136-b5ddbb54d475",
   "metadata": {},
   "outputs": [],
   "source": [
    "# # consensus model\n",
    "# consensus_model = pd.DataFrame(index=metadata.index)\n",
    "# consensus_model['consensus_model'] = '--'  # set default value to '--'\n",
    "\n",
    "# for idx, row in metadata.loc[:, ['tags']].iterrows():\n",
    "#     if row['tags']:\n",
    "#         if 'pow' in row['tags']: consensus_model.loc[idx, \"consensus_model\"] = 'POW'\n",
    "#         if 'pos' in row['tags']: consensus_model.loc[idx, \"consensus_model\"] = 'POS'\n",
    "# consensus_model.head(5)"
   ]
  },
  {
   "cell_type": "code",
   "execution_count": 9,
   "id": "97c71b00-a7cd-4f1e-84c0-23503d3a6977",
   "metadata": {},
   "outputs": [],
   "source": [
    "# portfolio inclusion\n",
    "portfolio = pd.DataFrame(index=metadata.index)\n",
    "portfolio['portfolio'] = 0  # set default value to 0\n",
    "for idx, row in metadata.loc[:, ['tags']].iterrows():\n",
    "    if row['tags']:\n",
    "        portfolio_list = [el for el in row['tags'] if 'portfolio' in el]\n",
    "        portfolio.loc[idx, 'portfolio'] = len(portfolio_list)\n",
    "# portfolio.head(5)        "
   ]
  },
  {
   "cell_type": "code",
   "execution_count": 10,
   "id": "c35184cb-6967-46da-90f1-abe10836ad00",
   "metadata": {},
   "outputs": [],
   "source": [
    "# layer 1 (platform) if layer 2\n",
    "layer1 = pd.DataFrame(index=metadata.index)\n",
    "layer1['layer_1'] = None  # set default value to '--'\n",
    "for idx, row in metadata.loc[:, ['platform']].iterrows():\n",
    "    if row['platform']:\n",
    "        layer1.loc[idx, 'layer_1'] = row['platform']['name']\n",
    "# layer1.head(5)        "
   ]
  },
  {
   "cell_type": "code",
   "execution_count": 11,
   "id": "a050a46c-f01a-47f3-b9e2-3eccf7726948",
   "metadata": {},
   "outputs": [],
   "source": [
    "# contract address if layer 2\n",
    "contract_address = pd.DataFrame(index=metadata.index)\n",
    "contract_address['cont_address'] = None  # set default value to '--'\n",
    "for idx, row in metadata.loc[:, ['platform']].iterrows():\n",
    "    if row['platform']:\n",
    "        if row['platform']['token_address']:\n",
    "            contract_address.loc[idx, 'cont_address'] = row['platform']['token_address']\n",
    "            \n",
    "# fill in contract address for df_asset\n",
    "for idx, row in df_asset.loc[:, ['token_address']].iterrows():\n",
    "    if (row['token_address'] is None) & (contract_address.loc[idx, 'cont_address'] is not None): \n",
    "        df_asset.loc[idx, 'token_address'] = contract_address.loc[idx, 'cont_address']"
   ]
  },
  {
   "cell_type": "code",
   "execution_count": 12,
   "id": "cfad802e-3e50-45fa-a250-c6866e8515fe",
   "metadata": {},
   "outputs": [
    {
     "name": "stdout",
     "output_type": "stream",
     "text": [
      "ATOM : Total supply value is 0: replacing with circulating supply.\n",
      "EXRD : Total supply value is 0: replacing with circulating supply.\n",
      "LOKA : Total supply value is 0: replacing with circulating supply.\n",
      "ID : Total supply value is 0: replacing with circulating supply.\n"
     ]
    },
    {
     "data": {
      "text/html": [
       "<div><div id=9d0e46f5-3186-4e4e-9930-06f3c0e3976d style=\"display:none; background-color:#9D6CFF; color:white; width:200px; height:30px; padding-left:5px; border-radius:4px; flex-direction:row; justify-content:space-around; align-items:center;\" onmouseover=\"this.style.backgroundColor='#BA9BF8'\" onmouseout=\"this.style.backgroundColor='#9D6CFF'\" onclick=\"window.commands?.execute('create-mitosheet-from-dataframe-output');\">See Full Dataframe in Mito</div> <script> if (window.commands.hasCommand('create-mitosheet-from-dataframe-output')) document.getElementById('9d0e46f5-3186-4e4e-9930-06f3c0e3976d').style.display = 'flex' </script> <table border=\"1\" class=\"dataframe\">\n",
       "  <thead>\n",
       "    <tr style=\"text-align: right;\">\n",
       "      <th></th>\n",
       "      <th>num_market_pairs</th>\n",
       "      <th>circulating_supply</th>\n",
       "      <th>total_supply</th>\n",
       "      <th>price</th>\n",
       "      <th>volume_24h</th>\n",
       "      <th>volume_change_24h</th>\n",
       "      <th>percent_change_1h</th>\n",
       "      <th>percent_change_24h</th>\n",
       "      <th>percent_change_7d</th>\n",
       "      <th>percent_change_30d</th>\n",
       "      <th>percent_change_60d</th>\n",
       "      <th>percent_change_90d</th>\n",
       "      <th>market_cap</th>\n",
       "      <th>market_cap_dominance</th>\n",
       "      <th>fully_diluted_market_cap</th>\n",
       "      <th>last_updated</th>\n",
       "    </tr>\n",
       "  </thead>\n",
       "  <tbody>\n",
       "    <tr>\n",
       "      <th>BTC</th>\n",
       "      <td>9191</td>\n",
       "      <td>18970650</td>\n",
       "      <td>18970650</td>\n",
       "      <td>41077.621729</td>\n",
       "      <td>2.977549e+10</td>\n",
       "      <td>61.8169</td>\n",
       "      <td>1.505087</td>\n",
       "      <td>4.722870</td>\n",
       "      <td>5.406689</td>\n",
       "      <td>9.465972</td>\n",
       "      <td>-13.002251</td>\n",
       "      <td>-28.191557</td>\n",
       "      <td>7.792692e+11</td>\n",
       "      <td>42.6102</td>\n",
       "      <td>8.626301e+11</td>\n",
       "      <td>2022-02-28T16:27:00.000Z</td>\n",
       "    </tr>\n",
       "    <tr>\n",
       "      <th>ETH</th>\n",
       "      <td>5526</td>\n",
       "      <td>119768610.0615</td>\n",
       "      <td>119768610.0615</td>\n",
       "      <td>2819.650835</td>\n",
       "      <td>1.958972e+10</td>\n",
       "      <td>48.8746</td>\n",
       "      <td>0.696584</td>\n",
       "      <td>1.227905</td>\n",
       "      <td>3.324954</td>\n",
       "      <td>10.777709</td>\n",
       "      <td>-24.429944</td>\n",
       "      <td>-38.810912</td>\n",
       "      <td>3.377057e+11</td>\n",
       "      <td>18.4656</td>\n",
       "      <td>3.377057e+11</td>\n",
       "      <td>2022-02-28T16:27:00.000Z</td>\n",
       "    </tr>\n",
       "    <tr>\n",
       "      <th>USDT</th>\n",
       "      <td>28819</td>\n",
       "      <td>79576056394.095291</td>\n",
       "      <td>82164697048.778214</td>\n",
       "      <td>1.000483</td>\n",
       "      <td>6.573211e+10</td>\n",
       "      <td>36.5267</td>\n",
       "      <td>0.009952</td>\n",
       "      <td>-0.000651</td>\n",
       "      <td>-0.029330</td>\n",
       "      <td>0.011763</td>\n",
       "      <td>0.095156</td>\n",
       "      <td>0.038314</td>\n",
       "      <td>7.961448e+10</td>\n",
       "      <td>4.3533</td>\n",
       "      <td>8.220437e+10</td>\n",
       "      <td>2022-02-28T16:27:00.000Z</td>\n",
       "    </tr>\n",
       "    <tr>\n",
       "      <th>BNB</th>\n",
       "      <td>727</td>\n",
       "      <td>165116760.89</td>\n",
       "      <td>165116760.89</td>\n",
       "      <td>384.685090</td>\n",
       "      <td>1.759400e+09</td>\n",
       "      <td>21.9233</td>\n",
       "      <td>1.134605</td>\n",
       "      <td>2.886793</td>\n",
       "      <td>1.118193</td>\n",
       "      <td>0.300096</td>\n",
       "      <td>-25.982398</td>\n",
       "      <td>-37.847614</td>\n",
       "      <td>6.351796e+10</td>\n",
       "      <td>3.4662</td>\n",
       "      <td>6.351796e+10</td>\n",
       "      <td>2022-02-28T16:27:00.000Z</td>\n",
       "    </tr>\n",
       "    <tr>\n",
       "      <th>USDC</th>\n",
       "      <td>3135</td>\n",
       "      <td>53475685887.136978</td>\n",
       "      <td>53475685887.136978</td>\n",
       "      <td>0.999811</td>\n",
       "      <td>5.360243e+09</td>\n",
       "      <td>53.3345</td>\n",
       "      <td>0.017395</td>\n",
       "      <td>0.015572</td>\n",
       "      <td>-0.039835</td>\n",
       "      <td>-0.034235</td>\n",
       "      <td>0.018669</td>\n",
       "      <td>0.102110</td>\n",
       "      <td>5.346557e+10</td>\n",
       "      <td>2.9177</td>\n",
       "      <td>5.346557e+10</td>\n",
       "      <td>2022-02-28T16:27:00.000Z</td>\n",
       "    </tr>\n",
       "  </tbody>\n",
       "</table></div>"
      ],
      "text/plain": [
       "     num_market_pairs  circulating_supply        total_supply         price  \\\n",
       "BTC              9191            18970650            18970650  41077.621729   \n",
       "ETH              5526      119768610.0615      119768610.0615   2819.650835   \n",
       "USDT            28819  79576056394.095291  82164697048.778214      1.000483   \n",
       "BNB               727        165116760.89        165116760.89    384.685090   \n",
       "USDC             3135  53475685887.136978  53475685887.136978      0.999811   \n",
       "\n",
       "        volume_24h  volume_change_24h  percent_change_1h  percent_change_24h  \\\n",
       "BTC   2.977549e+10            61.8169           1.505087            4.722870   \n",
       "ETH   1.958972e+10            48.8746           0.696584            1.227905   \n",
       "USDT  6.573211e+10            36.5267           0.009952           -0.000651   \n",
       "BNB   1.759400e+09            21.9233           1.134605            2.886793   \n",
       "USDC  5.360243e+09            53.3345           0.017395            0.015572   \n",
       "\n",
       "      percent_change_7d  percent_change_30d  percent_change_60d  \\\n",
       "BTC            5.406689            9.465972          -13.002251   \n",
       "ETH            3.324954           10.777709          -24.429944   \n",
       "USDT          -0.029330            0.011763            0.095156   \n",
       "BNB            1.118193            0.300096          -25.982398   \n",
       "USDC          -0.039835           -0.034235            0.018669   \n",
       "\n",
       "      percent_change_90d    market_cap  market_cap_dominance  \\\n",
       "BTC           -28.191557  7.792692e+11               42.6102   \n",
       "ETH           -38.810912  3.377057e+11               18.4656   \n",
       "USDT            0.038314  7.961448e+10                4.3533   \n",
       "BNB           -37.847614  6.351796e+10                3.4662   \n",
       "USDC            0.102110  5.346557e+10                2.9177   \n",
       "\n",
       "      fully_diluted_market_cap              last_updated  \n",
       "BTC               8.626301e+11  2022-02-28T16:27:00.000Z  \n",
       "ETH               3.377057e+11  2022-02-28T16:27:00.000Z  \n",
       "USDT              8.220437e+10  2022-02-28T16:27:00.000Z  \n",
       "BNB               6.351796e+10  2022-02-28T16:27:00.000Z  \n",
       "USDC              5.346557e+10  2022-02-28T16:27:00.000Z  "
      ]
     },
     "execution_count": 12,
     "metadata": {},
     "output_type": "execute_result"
    }
   ],
   "source": [
    "# market data - all (for top 1000 coins)\n",
    "# url = 'https://pro-api.coinmarketcap.com/v1/cryptocurrency/listings/latest'  # CMC cryptocurrenc / metadata v2 endpoint\n",
    "url = 'https://pro-api.coinmarketcap.com/v2/cryptocurrency/quotes/latest'\n",
    "tmpdata = pd.DataFrame()\n",
    "for i in range(0, 1000, 100):    \n",
    "    parameters = {'slug': coinmap['slug'].iloc[i:i+100].to_csv(header=None, index=False).strip('\\n').replace('\\n', ',')}\n",
    "    order = coinmap['symbol'].iloc[i:i+100].to_list()\n",
    "    response = session.get(url, params=parameters)\n",
    "    data = json.loads(response.text)\n",
    "    tmp = pd.DataFrame(data['data']).T.set_index('symbol').loc[order]\n",
    "    tmpdata = pd.concat([tmpdata, tmp]) \n",
    "\n",
    "# extract market data\n",
    "marketdata = pd.DataFrame()\n",
    "for idx, row in tmpdata.iterrows():\n",
    "    df_tmp = pd.DataFrame.from_dict([tmpdata['quote'].to_dict()[idx]['USD']])\n",
    "    df_tmp.index = [idx]\n",
    "    marketdata = pd.concat([marketdata, df_tmp])\n",
    "    \n",
    "# add additional data\n",
    "marketdata = pd.concat([tmpdata[['num_market_pairs', 'circulating_supply', 'total_supply']], marketdata], axis=1)\n",
    "\n",
    "# fill in zero value total supply with circulating supply\n",
    "for idx, row in marketdata.iterrows():\n",
    "    if row['total_supply'] == 0:\n",
    "        marketdata.loc[idx, 'total_supply'] = marketdata.loc[idx, 'circulating_supply']\n",
    "        print(idx, ': Total supply value is 0: replacing with circulating supply.')\n",
    "    \n",
    "marketdata.head(5)    "
   ]
  },
  {
   "cell_type": "code",
   "execution_count": null,
   "id": "5608b852-7775-48a2-b52c-f25a283ab867",
   "metadata": {},
   "outputs": [],
   "source": [
    "# # market cap (based on circulating supply, per CMC convention)\n",
    "# market_cap = marketdata[['market_cap']]\n",
    "# market_cap.head(5)"
   ]
  },
  {
   "cell_type": "code",
   "execution_count": null,
   "id": "2e527224-8c0b-4874-a673-864379b8865b",
   "metadata": {},
   "outputs": [],
   "source": [
    "# # market share\n",
    "# market_share = marketdata[['market_cap_dominance']]\n",
    "# market_share.columns = ['market_share']\n",
    "# market_share.head(5)"
   ]
  },
  {
   "cell_type": "code",
   "execution_count": null,
   "id": "7fcad7be-ac79-4cc7-972b-8b54cd9f209b",
   "metadata": {},
   "outputs": [],
   "source": [
    "# max v. circulating supply (get from market data)"
   ]
  },
  {
   "cell_type": "code",
   "execution_count": 13,
   "id": "edc9b520-22f6-4c3b-aa5d-5ca570c4a9e3",
   "metadata": {},
   "outputs": [],
   "source": [
    "# # add portfolio, layer1, & marketdata['num_market_pairs', 'circulating_supply', 'total_supply'] to df_esg & df_asset\n",
    "_add = pd.concat([layer1, portfolio, marketdata[['num_market_pairs', 'circulating_supply', 'total_supply']]], axis=1)\n",
    "if not all(df_esg.index.isin(_add.index)): raise ValueError('not all symbols in _add are in df_esg')\n",
    "df_esg = pd.concat([df_esg, _add], axis=1, join='inner')\n",
    "df_asset = pd.concat([df_asset, _add], axis=1, join='inner')"
   ]
  },
  {
   "cell_type": "markdown",
   "id": "ddb4ba78-b343-4e9a-b330-afa557e95c36",
   "metadata": {},
   "source": [
    "# Covalent (REST)\n",
    "free w/ multiple blockchain on-chain data for level 1, 2, & protocol endpoints + limited price endpoints <br>\n",
    "URL: https://www.covalenthq.com/docs/api/#/<br>\n",
    "data of interest:<br>\n",
    "&emsp; token holders at any block height<br>\n",
    "&emsp; all transactions on one address<br>\n",
    "&emsp; price volatility 1~24hrs (std)<br>\n",
    "&emsp; NFT    "
   ]
  },
  {
   "cell_type": "code",
   "execution_count": 1,
   "id": "f57b66cb-157d-459d-8a65-f2ba40a48b7c",
   "metadata": {},
   "outputs": [],
   "source": [
    "import requests, json\n",
    "import pandas as pd\n",
    "COVKEY = 'ckey_163ac0025b5241e2a985f1bb620'\n",
    "head = \"https://api.covalenthq.com/v1/\" \n",
    "tail = \"?key=\" + COVKEY"
   ]
  },
  {
   "cell_type": "code",
   "execution_count": 2,
   "id": "ef878ec9-9e7d-4ca1-a31d-466693ee1d5a",
   "metadata": {},
   "outputs": [
    {
     "name": "stdout",
     "output_type": "stream",
     "text": [
      "                                 chain_id synced_blocked_signed_at\n",
      "name                                                              \n",
      "eth-mainnet                             1     2022-06-07T03:30:40Z\n",
      "palm-mainnet                  11297108109     2022-06-07T03:30:58Z\n",
      "covalent-internal-network-v1   1131378225     2022-06-07T03:30:57Z\n",
      "heco-mainnet                          128     2022-06-07T03:30:53Z\n",
      "moonbeam-mainnet                     1284     2022-06-07T03:30:18Z\n",
      "moonbeam-moonriver                   1285     2022-06-07T03:30:36Z\n",
      "aurora-mainnet                 1313161554     2022-06-07T03:30:51Z\n",
      "matic-mainnet                         137     2022-06-07T03:30:51Z\n",
      "harmony-mainnet                1666600000     2022-06-07T03:30:57Z\n",
      "harmony-testnet                1666700000     2022-06-07T03:30:57Z\n",
      "axie-mainnet                         2020     2022-06-07T03:30:43Z\n",
      "fantom-mainnet                        250     2022-06-07T03:30:57Z\n",
      "rsk-mainnet                            30     2022-06-07T03:28:44Z\n",
      "astar-shiden                          336     2022-06-07T03:28:12Z\n",
      "arbitrum-mainnet                    42161     2022-06-07T03:28:57Z\n",
      "avalanche-mainnet                   43114     2022-06-07T03:30:57Z\n",
      "iotex-mainnet                        4689     2022-06-07T03:30:30Z\n",
      "bsc-mainnet                            56     2022-06-07T03:30:44Z\n",
      "klaytn-mainnet                       8217     2022-06-07T03:30:58Z\n"
     ]
    }
   ],
   "source": [
    "# get all chain (main net only)\n",
    "endpoint = \"chains/status/\"\n",
    "query = head + endpoint + tail\n",
    "results = requests.get(query).json()['data']\n",
    "\n",
    "all_chains = pd.DataFrame()\n",
    "for item in results['items']:\n",
    "    tmp = pd.DataFrame.from_dict([item])\n",
    "    all_chains = pd.concat([tmp, all_chains])\n",
    "    \n",
    "filt = ~all_chains['is_testnet']\n",
    "pd.set_option(\"display.max_rows\", None)#, \"display.max_columns\", None, \"display.max_colwidth\", None)\n",
    "all_chains = all_chains.set_index('name').loc[filt.to_list(), ['chain_id', 'synced_blocked_signed_at']].sort_values('chain_id')\n",
    "print(all_chains)"
   ]
  },
  {
   "cell_type": "code",
   "execution_count": 16,
   "id": "40d4931b-dd2a-4abf-b6b0-9115132f88c9",
   "metadata": {},
   "outputs": [],
   "source": [
    "# map Covalent chain_id to blockchain names in df_asset / df_esg\n",
    "id_mapping = {'Eth':1, 'GLMR':1285, 'MATIC':137, 'AXS':2020, 'FTM':250, 'RIF':30, 'ASTR':336, 'AVAX':43114, 'IOTX':4689, 'BNB':56, 'KLAY':8217}\n",
    "# coinmap.loc[coinmap['slug'].str.lower().str.contains('klaytn'), ['name', 'symbol']]"
   ]
  },
  {
   "cell_type": "markdown",
   "id": "58c05b17-edc2-4eae-b988-26480dbf1dfa",
   "metadata": {},
   "source": [
    "# Bitqury (GraphQL)\n",
    "free up to 100k calls / month<br>\n",
    "almost exclusively on-chain data (+ DEX trades) (+ coinpath)<br>\n",
    "URL: https://graphql.bitquery.io/ide#"
   ]
  },
  {
   "cell_type": "code",
   "execution_count": null,
   "id": "79409b82-142d-431a-8972-3162811c4578",
   "metadata": {},
   "outputs": [],
   "source": []
  },
  {
   "cell_type": "code",
   "execution_count": null,
   "id": "00ea4999-4391-479c-8821-3c1e43ed5d63",
   "metadata": {},
   "outputs": [],
   "source": []
  },
  {
   "cell_type": "markdown",
   "id": "de7dbb07-7816-4167-a0e7-1220b6194d69",
   "metadata": {},
   "source": [
    "# CoinAPI (consolidated market data)\n",
    "API key: '92E2C8F7-B472-4644-B2D2-D8F8B63B24FB'"
   ]
  },
  {
   "cell_type": "code",
   "execution_count": null,
   "id": "10af6c3d-8bff-4774-acc1-0bb5074ade01",
   "metadata": {},
   "outputs": [],
   "source": []
  },
  {
   "cell_type": "code",
   "execution_count": null,
   "id": "1653e422-e45f-46fd-be60-8d801b1a3bf9",
   "metadata": {},
   "outputs": [],
   "source": []
  },
  {
   "cell_type": "markdown",
   "id": "0c8adefe-74a3-44e1-b284-60256a5d2491",
   "metadata": {},
   "source": [
    "# Binance"
   ]
  },
  {
   "cell_type": "code",
   "execution_count": null,
   "id": "7de15329-a25a-4818-9866-0378f31e2a18",
   "metadata": {
    "jupyter": {
     "source_hidden": true
    },
    "tags": []
   },
   "outputs": [],
   "source": [
    "# # get Binance symbols (USDT pairs)\n",
    "# result = requests.get('https://api.binance.com/api/v3/ticker/price')\n",
    "# js = result.json()\n",
    "# symbols = [x['symbol'] for x in js]\n",
    "# symbols_usdt = [x[:-4] for x in symbols if 'USDT' in x]\n",
    "\n",
    "# w_syms_BNB = widgets.interactive(dummyf.dummyf, x=widgets.SelectMultiple(options=sorted(symbols_usdt), layout=Layout(width='400px', height='150px')))\n",
    "# HBox([widgets.Label('select symbol pairs'), w_syms_BNB])"
   ]
  },
  {
   "cell_type": "code",
   "execution_count": null,
   "id": "e905261f-55d2-49f3-a5ae-00f7eefbf82e",
   "metadata": {
    "jupyter": {
     "source_hidden": true
    },
    "tags": []
   },
   "outputs": [],
   "source": [
    "# # define symbol, start, end, interval, endpoint\n",
    "# symbols = list(w_syms_BNB.kwargs['x'])\n",
    "# start_date = '2017-01-01'  # Binance quotes available from 2017\n",
    "# end_date = datetime.today().strftime('%Y-%m-%d') # through today\n",
    "# interval = '1d'\n",
    "# URL = 'https://api.binance.com/api/v3/klines' # historical OHLV endpoint\n",
    "\n",
    "# # define column names\n",
    "# COLUMNS = ['Open_time', 'Open', 'High', 'Low', 'Close', 'Volume', 'Close_time', 'quote_av', 'trades', \n",
    "#                    'tb_base_av', 'tb_quote_av', 'ignore']"
   ]
  },
  {
   "cell_type": "code",
   "execution_count": null,
   "id": "1c856052-1514-4cfa-8c0f-9bdf17f62adc",
   "metadata": {
    "jupyter": {
     "source_hidden": true
    },
    "tags": []
   },
   "outputs": [],
   "source": [
    "# # get data\n",
    "# data = []\n",
    "\n",
    "# start = int(time.mktime(datetime.strptime(start_date + ' 00:00', '%Y-%m-%d %H:%M').timetuple())) * 1000\n",
    "# end = int(time.mktime(datetime.strptime(end_date +' 23:59', '%Y-%m-%d %H:%M').timetuple())) * 1000\n",
    "# params = {\n",
    "#     'symbol': symbols ,\n",
    "#     'interval': interval,\n",
    "#     'limit': 1000,\n",
    "#     'startTime': start,\n",
    "#     'endTime': end\n",
    "# }\n",
    "\n",
    "# while start < end:\n",
    "#     print(datetime.fromtimestamp(start // 1000)) # //: floor division\n",
    "#     params['startTime'] = start\n",
    "#     result = requests.get(URL, params = params)\n",
    "#     js = result.json()\n",
    "#     if js: print('runinng period:', datetime.fromtimestamp(js[0][0] // 1000)) \n",
    "#     else: break        \n",
    "#     data.extend(js)  \n",
    "#     start = js[-1][0] + 60000  # move on to next iteration (60k = 1000 mins)\n",
    "\n",
    "# if not data:  \n",
    "#     print('no data available for the period.') \n",
    "#     # return -1\n",
    "\n",
    "# df = pd.DataFrame(data)\n",
    "# df.columns = COLUMNS\n",
    "\n",
    "# df['Open_time'] = df.apply(lambda x:datetime.fromtimestamp(x['Open_time'] // 1000), axis=1)\n",
    "# df = df.drop(columns = ['Close_time', 'ignore'])\n",
    "# df['Symbol'] = symbol\n",
    "# df.loc[:, 'Open':'tb_quote_av'] = df.loc[:, 'Open':'tb_quote_av'].astype(float)  # string to float\n",
    "# df['trades'] = df['trades'].astype(int)\n",
    "# mitosheet.sheet(df, view_df=True)"
   ]
  },
  {
   "cell_type": "code",
   "execution_count": null,
   "id": "3bc6277f-7669-490d-b5e6-ec877ac785d4",
   "metadata": {},
   "outputs": [],
   "source": []
  },
  {
   "cell_type": "code",
   "execution_count": null,
   "id": "21d6d4d3-f6ed-4c92-9efb-42d2370abd45",
   "metadata": {},
   "outputs": [],
   "source": []
  },
  {
   "cell_type": "markdown",
   "id": "95e3fbcb-45bf-4480-8656-aa4be7d5628b",
   "metadata": {},
   "source": [
    "# CoinGecko\n",
    "Using Coingecko community-built library:https://github.com/man-c/pycoingecko <br>\n",
    "Coingecko official doc: https://www.coingecko.com/en/api/documentation"
   ]
  },
  {
   "cell_type": "code",
   "execution_count": null,
   "id": "ef02a96d-98b5-4eb7-ad73-704619a6b557",
   "metadata": {
    "jupyter": {
     "source_hidden": true
    },
    "tags": []
   },
   "outputs": [],
   "source": [
    "# # prep & get coin list\n",
    "# from pycoingecko import CoinGeckoAPI  # Community project. See: https://github.com/man-c/pycoingecko\n",
    "# import ipywidgets as widgets\n",
    "# from ipywidgets import HBox, Layout\n",
    "# import sys\n",
    "# sys.path.append('/home/lstm/Github/jp-codes-ubuntu/modules/')\n",
    "# import dummyf\n",
    "\n",
    "# cg = CoinGeckoAPI()\n",
    "# df_gecko = pd.DataFrame(cg.get_coins_list())"
   ]
  },
  {
   "cell_type": "code",
   "execution_count": null,
   "id": "c1745ca9-4df5-49c6-a6d1-368b561edee8",
   "metadata": {
    "jupyter": {
     "source_hidden": true
    },
    "tags": []
   },
   "outputs": [],
   "source": [
    "# # check for symbol\n",
    "# check4 = ['comp', 'ohm', 'snx', 'susd', 'trx', 'vai', 'ht', 'sun', 'jst', 'win', 'ylz', 'qdao', 'btc', 'sol', 'eth',]\n",
    "# # compound, olympus, synthetix, synthetix USD, tron, venus, huobi, just, winklink, bitcoin, solana, ethereum\n",
    "\n",
    "# num_days = 5000\n",
    "\n",
    "# names = df_gecko.loc[df_gecko['symbol'].str.contains('|'.join(check4), case=False), :].name.to_list()\n",
    "# w_name = widgets.interactive(dummyf.dummyf, x=widgets.SelectMultiple(options=sorted(names), layout=Layout(width='400px', height='150px')))\n",
    "\n",
    "# HBox([widgets.Label('MLflow experiment name'), w_name])"
   ]
  },
  {
   "cell_type": "code",
   "execution_count": null,
   "id": "32ae1a4d-527a-4587-87aa-dac5bdf2d5b0",
   "metadata": {
    "jupyter": {
     "source_hidden": true
    },
    "tags": []
   },
   "outputs": [],
   "source": [
    "# list_names = w_name.kwargs['x']\n",
    "# list_sym = df_gecko.loc[df_gecko['name'].isin(list_names), :].id.to_list()\n",
    "# list_sym = ['compound-governance-token', 'just', 'olympus', 'wink', 'bitcoin', 'ethereum']\n",
    "# #'huobi-token', 'yieldzard', venus, 'sun', 'q-dao-governance-token-v1-0'\n",
    "# # 'tron': not high yield\n",
    "# # 'solana': too many event-driven market moves"
   ]
  },
  {
   "cell_type": "code",
   "execution_count": null,
   "id": "d4f60b7e-9969-4013-89b6-f2da9bc5cf93",
   "metadata": {
    "jupyter": {
     "source_hidden": true
    },
    "tags": []
   },
   "outputs": [],
   "source": [
    "# df_mktcap = pd.DataFrame()\n",
    "# df_price = pd.DataFrame()\n",
    "# for sym in list_sym:\n",
    "#     gecko_id = sym\n",
    "#     ticker = df_gecko.loc[df_gecko['id']==gecko_id, 'symbol'].iloc[0].upper()\n",
    "#     gecko_data = cg.get_coin_market_chart_by_id(gecko_id, vs_currency='USD', days=num_days)\n",
    "    \n",
    "#     df_mc = pd.DataFrame(gecko_data['market_caps'])\n",
    "#     df_mc.columns = ['date', ticker]\n",
    "#     df_mc['date'] = df_mc['date'].div(1000).apply(datetime.fromtimestamp)\n",
    "#     df_mc.set_index('date', inplace=True)\n",
    "#     df_mc.index = pd.DatetimeIndex(df_mc.index.date)\n",
    "#     df_mc = df_mc.loc[~df_mc.index.duplicated(keep='last'), :]    \n",
    "#     df_mktcap = pd.concat([df_mktcap, df_mc], axis=1, join='outer')    \n",
    "\n",
    "#     df_pr = pd.DataFrame(gecko_data['prices'])\n",
    "#     df_pr.columns = ['date', ticker]\n",
    "#     df_pr['date'] = df_pr['date'].div(1000).apply(datetime.fromtimestamp)\n",
    "#     df_pr.set_index('date', inplace=True)\n",
    "#     df_pr.index = pd.DatetimeIndex(df_pr.index.date)\n",
    "#     df_pr = df_pr.loc[~df_pr.index.duplicated(keep='last'), :]    \n",
    "#     df_price = pd.concat([df_price, df_pr], axis=1, join='outer')\n",
    "# df_mktcap.sort_index(inplace=True)\n",
    "# df_mktcap.index.name = 'date'\n",
    "# df_price.sort_index(inplace=True)\n",
    "# df_price.index.name = 'date'"
   ]
  },
  {
   "cell_type": "code",
   "execution_count": null,
   "id": "5bee605f-06a2-4ace-b709-ed0b085eae03",
   "metadata": {},
   "outputs": [],
   "source": []
  },
  {
   "cell_type": "code",
   "execution_count": null,
   "id": "234a0d4a-f886-427b-a268-d931573843e8",
   "metadata": {},
   "outputs": [],
   "source": []
  },
  {
   "cell_type": "markdown",
   "id": "404eb1f8-1a6b-4f9e-9616-f6ca5580c5fc",
   "metadata": {},
   "source": [
    "# fill template w/ data"
   ]
  },
  {
   "cell_type": "code",
   "execution_count": 17,
   "id": "de98349b-a14d-46b8-88e8-b01e6b839a94",
   "metadata": {},
   "outputs": [],
   "source": [
    "# map row names to spreadsheet\n",
    "df_asset.rename(columns=row_mapping_rev, inplace=True)\n",
    "df_esg.rename(columns=row_mapping_rev, inplace=True)  # not tracked going forward\n",
    "\n",
    "# check all columns are in template\n",
    "if not all([id in template.ticker.to_list() for id in df_asset.rename(columns=row_mapping_rev).columns]):\n",
    "    raise ValueError('not all df_asset columns are in template')\n",
    "\n",
    "data_asset = pd.DataFrame(index=template.ticker)\n",
    "data_asset = pd.concat([data_asset, df_asset.T], axis=1)\n",
    "\n",
    "# fill category headers w/ --\n",
    "for header in category_headers:\n",
    "    data_asset.loc[header, :] = '----'\n",
    "    \n",
    "# calculate vrom intermediate values\n",
    "df_mean = pd.concat([\n",
    "    data_asset.loc['holding_1pct']/data_asset.loc['supply_total'],\n",
    "    data_asset.loc['holding_10pct']/data_asset.loc['supply_total'],\n",
    "    data_asset.loc['holding_100']/data_asset.loc['supply_total']\n",
    "], axis=1).mean(axis=1)\n",
    "\n",
    "data_asset.loc['degree of share concentration'] = df_mean"
   ]
  },
  {
   "cell_type": "markdown",
   "id": "a18ed23e-fe84-48cf-9901-6970bd9ec9c7",
   "metadata": {},
   "source": [
    "# clean up"
   ]
  },
  {
   "cell_type": "code",
   "execution_count": 18,
   "id": "cbc16758-f10f-4c52-b11b-d18aa9891572",
   "metadata": {},
   "outputs": [],
   "source": [
    "# replace long values with abbrebiation\n",
    "replace_dict = {'Proof-of-Work': 'POW', 'Proof-of-Stake': 'dPOS', 'Delegated Proof-of-Stake': 'dPOS'}\n",
    "data_asset.replace(replace_dict, inplace=True)\n",
    "\n",
    "# convert marketshare to PCT (divide by 100)\n",
    "data_asset.loc['market share'] = data_asset.loc['market share']/100"
   ]
  },
  {
   "cell_type": "markdown",
   "id": "79be895b-c4ec-4107-9f70-94cf4c618bc6",
   "metadata": {},
   "source": [
    "# (if necessary) upload to Google Drive"
   ]
  },
  {
   "cell_type": "code",
   "execution_count": 19,
   "id": "cd65cb76-b68f-46a5-8c09-221f0883a4b4",
   "metadata": {},
   "outputs": [],
   "source": [
    "data_asset[data_asset.isna()] = '((manual))' # insert placeholders for manual fill \n",
    "# use regex: ^((?!manual|----).)*$ \n",
    "\n",
    "data_asset.to_csv(path_out_csv)\n",
    "\n",
    "# uploading to Google Drive is done manullay at this stage"
   ]
  },
  {
   "cell_type": "markdown",
   "id": "5113a573-6da3-4bc2-b4db-d73584951cda",
   "metadata": {},
   "source": [
    "# combine dataframes w/ manually-filled items (from summary sheet)"
   ]
  },
  {
   "cell_type": "code",
   "execution_count": null,
   "id": "65b653b2-a69e-41ae-8aaa-4418082b23c4",
   "metadata": {},
   "outputs": [],
   "source": [
    "# read in eval_sheet_manual\n"
   ]
  },
  {
   "cell_type": "code",
   "execution_count": null,
   "id": "1a5bb0df-e0cb-4695-9aa2-698321a0250b",
   "metadata": {},
   "outputs": [],
   "source": [
    "\n"
   ]
  },
  {
   "cell_type": "code",
   "execution_count": null,
   "id": "44915b5e-c69b-487e-a502-16ac15de7b7e",
   "metadata": {},
   "outputs": [],
   "source": [
    "# write out to file\n"
   ]
  },
  {
   "cell_type": "code",
   "execution_count": null,
   "id": "bc3d7ae2-44db-4701-afae-0bd210f3459e",
   "metadata": {},
   "outputs": [],
   "source": []
  },
  {
   "cell_type": "code",
   "execution_count": null,
   "id": "bfe6a372-90ef-4339-a8a9-2ca26f09cd76",
   "metadata": {},
   "outputs": [],
   "source": []
  }
 ],
 "metadata": {
  "kernelspec": {
   "display_name": "Python 3 (ipykernel)",
   "language": "python",
   "name": "python3"
  },
  "language_info": {
   "codemirror_mode": {
    "name": "ipython",
    "version": 3
   },
   "file_extension": ".py",
   "mimetype": "text/x-python",
   "name": "python",
   "nbconvert_exporter": "python",
   "pygments_lexer": "ipython3",
   "version": "3.8.13"
  },
  "toc-autonumbering": true
 },
 "nbformat": 4,
 "nbformat_minor": 5
}

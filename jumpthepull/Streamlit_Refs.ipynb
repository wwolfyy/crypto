{
 "cells": [
  {
   "cell_type": "markdown",
   "id": "cd1eec63-665b-48ef-9251-aab23b32f051",
   "metadata": {},
   "source": [
    "<font size=6>Streamlit Reference Materials</font>"
   ]
  },
  {
   "cell_type": "markdown",
   "id": "519373ad-6f78-40d8-92cf-5e4bd14f4b56",
   "metadata": {},
   "source": [
    "### buidling dashboard example\n",
    "https://blog.streamlit.io/how-to-build-a-real-time-live-dashboard-with-streamlit/"
   ]
  },
  {
   "cell_type": "markdown",
   "id": "9b2daa46-45a2-418a-8df0-4078f69e49b4",
   "metadata": {},
   "source": [
    "### serve on Streamlit cloud\n",
    "https://carpentries-incubator.github.io/python-interactive-data-visualizations/08-publish-your-app/index.html"
   ]
  },
  {
   "cell_type": "markdown",
   "id": "c6013330-5545-4172-9ff5-1ef2d1617548",
   "metadata": {},
   "source": [
    "### 3 cloud-based ways to deploy Streamlit app \n",
    "https://towardsdatascience.com/3-easy-ways-to-deploy-your-streamlit-web-app-online-7c88bb1024b1"
   ]
  },
  {
   "cell_type": "markdown",
   "id": "8c493086-8d9b-4ce8-8d55-8a11589a57ba",
   "metadata": {},
   "source": [
    "### plotly chart\n",
    "https://docs.streamlit.io/library/api-reference/charts/st.plotly_chart"
   ]
  },
  {
   "cell_type": "code",
   "execution_count": null,
   "id": "f94d5946-0872-49ba-b0ad-e81fd8859ba2",
   "metadata": {},
   "outputs": [],
   "source": []
  }
 ],
 "metadata": {
  "kernelspec": {
   "display_name": "Python 3 (ipykernel)",
   "language": "python",
   "name": "python3"
  },
  "language_info": {
   "codemirror_mode": {
    "name": "ipython",
    "version": 3
   },
   "file_extension": ".py",
   "mimetype": "text/x-python",
   "name": "python",
   "nbconvert_exporter": "python",
   "pygments_lexer": "ipython3",
   "version": "3.8.13"
  }
 },
 "nbformat": 4,
 "nbformat_minor": 5
}
